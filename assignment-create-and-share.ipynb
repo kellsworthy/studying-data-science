{
 "cells": [
  {
   "cell_type": "markdown",
   "id": "39ba0ab6-8bf0-4897-81d4-7967fad64ac3",
   "metadata": {},
   "source": [
    "# My Jupyter Notebook on IBM Watson Studio"
   ]
  },
  {
   "cell_type": "markdown",
   "id": "2232d095-6c8f-45ef-a9e6-96f535862f24",
   "metadata": {},
   "source": [
    "**Katie Ellsworth**  \n",
    "Business Analytics/Project Management"
   ]
  },
  {
   "cell_type": "markdown",
   "id": "e0d290c8-65a7-47b5-9af1-18e4ab3e160b",
   "metadata": {},
   "source": [
    "*I am interested in data science because it allows us to discover the stories that data reveals, and visualize them in a way that even non-technical users can digest.  Data science tools will allow me to better my data analytics skills and become a more efficient business analyst and/or project manager.*"
   ]
  },
  {
   "cell_type": "markdown",
   "id": "5c35f5f7-bf81-45da-ade1-83965e66dbf1",
   "metadata": {},
   "source": [
    "### Print a greeting to my fellow classmates"
   ]
  },
  {
   "cell_type": "code",
   "execution_count": 2,
   "id": "f82b0f96-fd3e-43f2-8842-0666e7619949",
   "metadata": {},
   "outputs": [
    {
     "name": "stdout",
     "output_type": "stream",
     "text": [
      "Hello, fellow data science classmates!\n"
     ]
    }
   ],
   "source": [
    "print(\"Hello, fellow data science classmates!\")"
   ]
  },
  {
   "cell_type": "markdown",
   "id": "20122780-60d1-4677-9e87-e97ddabb6a18",
   "metadata": {},
   "source": [
    "---\n",
    "\n",
    "One of my favorite quotes by [Dr. Seuss](https://en.wikipedia.org/wiki/Dr._Seuss):\n",
    "\n",
    "> The more that you read, the more things you will know.\n",
    "> The more that you learn, the more places you'll go.\n",
    "\n",
    "It's quite inspiring, isn't it?  Good luck with your pursuit of more knowledge and skills!"
   ]
  }
 ],
 "metadata": {
  "kernelspec": {
   "display_name": "Python 3 (ipykernel)",
   "language": "python",
   "name": "python3"
  },
  "language_info": {
   "codemirror_mode": {
    "name": "ipython",
    "version": 3
   },
   "file_extension": ".py",
   "mimetype": "text/x-python",
   "name": "python",
   "nbconvert_exporter": "python",
   "pygments_lexer": "ipython3",
   "version": "3.9.6"
  }
 },
 "nbformat": 4,
 "nbformat_minor": 5
}
